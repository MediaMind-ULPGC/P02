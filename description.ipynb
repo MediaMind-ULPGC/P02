{
 "cells": [
  {
   "cell_type": "markdown",
   "metadata": {},
   "source": [
    "### 1a. Desarrollar una aplicación que lleve a cabo transformaciones de la imagen en tiempo real a través de una interfaz basada en trackbars o equivalente.\n",
    "\n",
    "- Hacer traslaciones. Es necesario indicar la magnitud de la traslación en X y en Y.\n",
    "- Hacer rotaciones. Es necesario indicar el centro de giro y ángulo de giro.\n",
    "- Hacer escalados uniformes y no uniformes. Es necesario indicar los factores de escala."
   ]
  },
  {
   "cell_type": "code",
   "execution_count": null,
   "metadata": {},
   "outputs": [],
   "source": [
    "\"\"\"\n",
    "1. TRASLACIÓN:\n",
    "\n",
    "-Trackbars X e Y\n",
    "- Matriz: T\n",
    "    | 1  0  tx |\n",
    "    | 0  1  ty |\n",
    "- cv.warpAffine(img_display, T, size de la imagen)\n",
    "\n",
    "\n",
    "2. ROTACIÓN\n",
    "\n",
    "- Trackbar de ángulo y click del centro\n",
    "- R = cv.getRotationMatrix2D(center, angle, 1)\n",
    "- img_display = cv.warpAffine(img_display, R, size)\n",
    "\n",
    "\n",
    "3. ESCALADO UNIFORME\n",
    "\n",
    "- Trackbars de escala\n",
    "- scale_factor = escala / 50.0  (para que se haga mas grande y más pequeña)\n",
    "- S = cv.getRotationMatrix2D(center, 0, scale_factor)\n",
    "- img_display = cv.warpAffine(img_display, S, size)\n",
    "\n",
    "\n",
    "4. ESCALADO NO UNIFORME\n",
    "\n",
    "- scale_x_factor = escala_x / 50.0  \n",
    "- scale_y_factor = escala_y / 50.0\n",
    "(Para que se haga mas grande y más pequeña)\n",
    "- S = np.float32([[scale_x_factor, 0, (1 - scale_x_factor) * center[0]],\n",
    "                        [0, scale_y_factor, (1 - scale_y_factor) * center[1]]])\n",
    "\n",
    "| scale_x_factor       0                  (1 - scale_x_factor) * center[0]  |\n",
    "| 0                    scale_y_factor     (1 - scale_y_factor) * center[1]  |\n",
    "- img_display = cv.warpAffine(img_display, S, size)\n",
    "\n",
    "5. MOSTRAR EL TEXTO UNOS SEGUNDOS\n",
    "- SI ha pasado poco tiempo desde que se cambio de modo -> entonces muestra el modo\n",
    "- Si no: no lo muestra\n",
    "\n",
    "\"\"\""
   ]
  },
  {
   "cell_type": "markdown",
   "metadata": {},
   "source": [
    "### 1b. Dada una imagen trazar una ventana de proyección y proyectar la imagen."
   ]
  },
  {
   "cell_type": "code",
   "execution_count": null,
   "metadata": {},
   "outputs": [],
   "source": [
    "\"\"\"\n",
    "1. Obtener los puntos pulsando el ratón\n",
    "\n",
    "2. Obtener la perspectiva y aplicar\n",
    "pts2 = np.float32([points[0], points[1], points[2], points[3]])\n",
    "Tp = cv.getPerspectiveTransform(pts1, pts2)\n",
    "img_p = cv.warpPerspective(img_orig, Tp, size)\n",
    "\"\"\""
   ]
  },
  {
   "cell_type": "markdown",
   "metadata": {},
   "source": [
    "### 1c. Desarrollar una aplicación que lleve a cabo distorsiones de la lente. Para ello los coeficientes de distorsión deben gobernarse a través de una interfaz"
   ]
  },
  {
   "cell_type": "code",
   "execution_count": null,
   "metadata": {},
   "outputs": [],
   "source": [
    "\"\"\"\n",
    "def apply_distortion(image, k1, k2):\n",
    "- k1 determina el signo\n",
    "- k2 determina la magnitud\n",
    "\n",
    "def update_image(val):\n",
    "- aplicar según los valores de k1 y k2\n",
    "\n",
    "\"\"\""
   ]
  },
  {
   "cell_type": "markdown",
   "metadata": {},
   "source": [
    "#### Optativo 1. Marcar el punto de giro con el ratón."
   ]
  },
  {
   "cell_type": "code",
   "execution_count": null,
   "metadata": {},
   "outputs": [],
   "source": [
    "\"\"\"\n",
    "Igual que el apartado obligatorio de rotación pero con el círculo dibujado.\n",
    "\n",
    "\"\"\""
   ]
  },
  {
   "cell_type": "markdown",
   "metadata": {},
   "source": [
    "#### - Trasladar la imagen arrastrándolo con el ratón y visualizarlo en tiempo real"
   ]
  },
  {
   "cell_type": "code",
   "execution_count": null,
   "metadata": {},
   "outputs": [],
   "source": [
    "\"\"\"\n",
    "\n",
    "- cv.EVENT_MOUSEMOVE -> cuando se mueve el ratón se actualiza el punto de centro\n",
    "   se calculan los incrementos q se va moviendo y se actualizan los valores de translación\n",
    "\"\"\""
   ]
  },
  {
   "cell_type": "markdown",
   "metadata": {},
   "source": [
    "#### - Hacer la parte obligatoria sobre vídeo en lugar de sobre imagen.\n",
    "\n",
    "#####  1.a - 1.b - 1.c"
   ]
  },
  {
   "cell_type": "code",
   "execution_count": null,
   "metadata": {},
   "outputs": [],
   "source": [
    "\"\"\"\n",
    "Igual pero editando el frame\n",
    "\n",
    "\"\"\""
   ]
  },
  {
   "cell_type": "markdown",
   "metadata": {},
   "source": [
    "### - Dada una imagen seleccionar tres puntos de la imagen original y tres puntos en  una imagen destino y realizar la transformación afín."
   ]
  },
  {
   "cell_type": "code",
   "execution_count": null,
   "metadata": {},
   "outputs": [],
   "source": [
    "\"\"\"\n",
    "- Se supone que los tres primeros puntos son de la imagen oiriginal y los otros tres son los puntos de destino\n",
    "- luego se aplica la transformación afín\n",
    "\"\"\""
   ]
  },
  {
   "cell_type": "markdown",
   "metadata": {},
   "source": [
    "#### - Calcular la imagen especular a partir de una imagen."
   ]
  },
  {
   "cell_type": "code",
   "execution_count": null,
   "metadata": {},
   "outputs": [],
   "source": [
    "\"\"\"\n",
    "\n",
    "cv.flip(img, 0) -> calcula la imagen especular\n",
    "- 0 -> eje x\n",
    "- 1 -> eje y\n",
    "- -1 -> ambos ejes\n",
    "\n",
    "\"\"\""
   ]
  },
  {
   "cell_type": "markdown",
   "metadata": {},
   "source": [
    "#### -Tratar una recta que será el eje de reflexión y “reflejar” la imagen. \n",
    "\n",
    "$$ Reflexión = I  - 2 * v_{normal} * v_{normal}^T $$"
   ]
  },
  {
   "cell_type": "code",
   "execution_count": null,
   "metadata": {},
   "outputs": [],
   "source": [
    "\"\"\"\n",
    "\n",
    "cv.EVENT_LBUTTONDOWN -> guardo el punto de inicio\n",
    "cv.EVENT_LBUTTONUP -> guardo el punto de fin\n",
    "cv.EVENT_MOUSEMOVE -> pinto la linea\n",
    "\n",
    "def reflect_image(image, point1, point2):\n",
    "    - 1. Obtengoi los dos puntos\n",
    "    - 2. Calculo el vector normal a la recta\n",
    "    - 3. Construir la matriz de reflexión\n",
    "\n",
    "\n",
    "\"\"\""
   ]
  }
 ],
 "metadata": {
  "language_info": {
   "name": "python"
  }
 },
 "nbformat": 4,
 "nbformat_minor": 2
}
