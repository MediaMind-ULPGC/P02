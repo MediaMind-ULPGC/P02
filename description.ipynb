{
 "cells": [
  {
   "cell_type": "markdown",
   "metadata": {},
   "source": [
    "### 1a. Desarrollar una aplicación que lleve a cabo transformaciones de la imagen en tiempo real a través de una interfaz basada en trackbars o equivalente.\n",
    "\n",
    "- Hacer traslaciones. Es necesario indicar la magnitud de la traslación en X y en Y.\n",
    "- Hacer rotaciones. Es necesario indicar el centro de giro y ángulo de giro.\n",
    "- Hacer escalados uniformes y no uniformes. Es necesario indicar los factores de escala."
   ]
  },
  {
   "cell_type": "code",
   "execution_count": null,
   "metadata": {},
   "outputs": [],
   "source": [
    "\"\"\"\n",
    "1. TRASLACIÓN:\n",
    "\n",
    "-Trackbars X e Y\n",
    "- Matriz: T\n",
    "    | 1  0  tx |\n",
    "    | 0  1  ty |\n",
    "- cv.warpAffine(img_display, T, size de la imagen)\n",
    "\n",
    "\n",
    "2. ROTACIÓN\n",
    "\n",
    "- Trackbar de ángulo y click del centro\n",
    "- R = cv.getRotationMatrix2D(center, angle, 1)\n",
    "- img_display = cv.warpAffine(img_display, R, size)\n",
    "\n",
    "\n",
    "3. ESCALADO UNIFORME\n",
    "\n",
    "- Trackbars de escala\n",
    "- scale_factor = escala / 50.0  (para que se haga mas grande y más pequeña)\n",
    "- S = cv.getRotationMatrix2D(center, 0, scale_factor)\n",
    "- img_display = cv.warpAffine(img_display, S, size)\n",
    "\n",
    "\n",
    "4. ESCALADO NO UNIFORME\n",
    "\n",
    "- scale_x_factor = escala_x / 50.0  \n",
    "- scale_y_factor = escala_y / 50.0\n",
    "(Para que se haga mas grande y más pequeña)\n",
    "- S = np.float32([[scale_x_factor, 0, (1 - scale_x_factor) * center[0]],\n",
    "                        [0, scale_y_factor, (1 - scale_y_factor) * center[1]]])\n",
    "\n",
    "| scale_x_factor       0                  (1 - scale_x_factor) * center[0]  |\n",
    "| 0                    scale_y_factor     (1 - scale_y_factor) * center[1]  |\n",
    "- img_display = cv.warpAffine(img_display, S, size)\n",
    "\n",
    "5. MOSTRAR EL TEXTO UNOS SEGUNDOS\n",
    "- SI ha pasado poco tiempo desde que se cambio de modo -> entonces muestra el modo\n",
    "- Si no: no lo muestra\n",
    "\n",
    "\"\"\""
   ]
  },
  {
   "cell_type": "markdown",
   "metadata": {},
   "source": [
    "### 1b. Dada una imagen trazar una ventana de proyección y proyectar la imagen."
   ]
  },
  {
   "cell_type": "code",
   "execution_count": null,
   "metadata": {},
   "outputs": [],
   "source": []
  }
 ],
 "metadata": {
  "language_info": {
   "name": "python"
  }
 },
 "nbformat": 4,
 "nbformat_minor": 2
}
